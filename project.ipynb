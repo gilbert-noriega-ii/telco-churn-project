{
 "cells": [
  {
   "cell_type": "markdown",
   "metadata": {},
   "source": [
    "# Project Planning\n",
    "\n",
    "- Describe the project and goals.\n",
    "\n",
    "- Task out how you will work through the pipeline in as much detail as you need to keep on track.\n",
    "\n",
    "- Incluce a data dictionary.\n",
    "\n",
    "- Clearly state your starting hypotheses (and add the testing of these to your task list)."
   ]
  },
  {
   "cell_type": "markdown",
   "metadata": {},
   "source": [
    "## Goals\n",
    "\n",
    "- Find drivers for customer churn.\n",
    "\n",
    "- Construct a ML classification model that accurately predicts customer churn.\n",
    "\n",
    "- Create modules that make your process repeateable.\n",
    "\n",
    "- Document your process well enough to be presented or read like a report.\n",
    "\n"
   ]
  },
  {
   "cell_type": "markdown",
   "metadata": {},
   "source": [
    "## Audience\n",
    "\n",
    "- Your target audience for your notebook walkthrough is the Codeup Data Science team. This should guide your language and level of explanations in your walkthrough."
   ]
  },
  {
   "cell_type": "markdown",
   "metadata": {},
   "source": [
    "## Project Specifications\n",
    "\n",
    "#### Why are our customers churning?\n",
    "\n",
    "###### Some questions to think about include but are not limited to:\n",
    "\n",
    "- Are there clear groupings where a customer is more likely to churn?\n",
    "\n",
    "    - What if you consider contract type?\n",
    "    - Is there a tenure that month-to-month customers are most likely to churn? 1-year contract customers? 2-year contract customers?\n",
    "    - Do you have any thoughts on what could be going on? (Be sure to state these thoughts not as facts but as untested hypotheses. Unless you test them!). Plot the rate of churn on a line chart where x is the tenure and y is the rate of churn (customers churned/total customers).\n",
    "\n",
    "- Are there features that indicate a higher propensity to churn?\n",
    "\n",
    "    - How influential are type of internet service, type of phone service, online security and backup, senior citizens, paying more than x% of customers with the same services, etc.?\n",
    "\n",
    "- Is there a price threshold for specific services where the likelihood of churn increases once price for those services goes past that point?\n",
    "\n",
    "    - If so, what is that point and for which service(s)?\n",
    "\n",
    "    - If we looked at churn rate for month-to-month customers after the 12th month and that of 1-year contract customers after the 12th month, are those rates comparable?\n"
   ]
  },
  {
   "cell_type": "markdown",
   "metadata": {},
   "source": [
    "### Acquisition\n",
    "\n",
    "- Acquire data from the customers table from the telco_churn database on the codeup data science database server.\n",
    "\n",
    "- You will want to join some tables as part of your query.\n",
    "\n",
    "- This data should end up in a pandas data frame.\n",
    "\n",
    "- summarize data (.info(), .describe(), .value_counts(), ...)\n",
    "\n",
    "- plot distributions of individual variables\n",
    "\n"
   ]
  },
  {
   "cell_type": "code",
   "execution_count": 1,
   "metadata": {},
   "outputs": [],
   "source": [
    "import pandas as pd\n",
    "import numpy as np\n",
    "import matplotlib.pyplot as plt\n",
    "from acquire import get_telco_data"
   ]
  },
  {
   "cell_type": "code",
   "execution_count": 11,
   "metadata": {},
   "outputs": [],
   "source": [
    "#grabbing telco data from SQL using function and storing it as a DataFrame\n",
    "df = pd.DataFrame(get_telco_data())\n",
    "df = df.set_index('customer_id')"
   ]
  },
  {
   "cell_type": "code",
   "execution_count": null,
   "metadata": {},
   "outputs": [],
   "source": [
    "df.head()"
   ]
  },
  {
   "cell_type": "code",
   "execution_count": null,
   "metadata": {},
   "outputs": [],
   "source": [
    "df.info()"
   ]
  },
  {
   "cell_type": "markdown",
   "metadata": {},
   "source": [
    "__All of the columns do not have any null values__"
   ]
  },
  {
   "cell_type": "code",
   "execution_count": null,
   "metadata": {},
   "outputs": [],
   "source": [
    "df.describe()"
   ]
  },
  {
   "cell_type": "markdown",
   "metadata": {},
   "source": [
    "__There does not seem to be any outliers__"
   ]
  },
  {
   "cell_type": "code",
   "execution_count": null,
   "metadata": {},
   "outputs": [],
   "source": [
    "df.payment_type_id.value_counts()"
   ]
  },
  {
   "cell_type": "markdown",
   "metadata": {},
   "source": [
    "- 1: electronic check\n",
    "- 2: mailed check\n",
    "- 3: bank transfer(automatic)\n",
    "- 4: credit card(automatic)"
   ]
  },
  {
   "cell_type": "code",
   "execution_count": null,
   "metadata": {},
   "outputs": [],
   "source": [
    "df.internet_service_type_id.value_counts()"
   ]
  },
  {
   "cell_type": "markdown",
   "metadata": {},
   "source": [
    "- 1: DSL\n",
    "- 2: Fiber Optic\n",
    "- 3: None"
   ]
  },
  {
   "cell_type": "code",
   "execution_count": null,
   "metadata": {},
   "outputs": [],
   "source": [
    "df.contract_type_id.value_counts()"
   ]
  },
  {
   "cell_type": "markdown",
   "metadata": {},
   "source": [
    "- 1: Month-to-month\n",
    "- 2: 1 year\n",
    "- 3: 2 year"
   ]
  },
  {
   "cell_type": "code",
   "execution_count": null,
   "metadata": {},
   "outputs": [],
   "source": [
    "df.senior_citizen.value_counts()"
   ]
  },
  {
   "cell_type": "code",
   "execution_count": null,
   "metadata": {},
   "outputs": [],
   "source": [
    "df.phone_service.value_counts()"
   ]
  },
  {
   "cell_type": "markdown",
   "metadata": {},
   "source": [
    "- 0: Is not senior citizen\n",
    "- 1: Is senior citizen"
   ]
  },
  {
   "cell_type": "markdown",
   "metadata": {},
   "source": [
    "__Confirmed there are no null values in senior citizens, payment, internet and contract type id__"
   ]
  },
  {
   "cell_type": "code",
   "execution_count": null,
   "metadata": {},
   "outputs": [],
   "source": [
    "# distribution of columns whose data type is 'int64'\n",
    "num_cols = df.columns[[df[col].dtype == 'int64' for col in df.columns]]\n",
    "for col in num_cols:\n",
    "    plt.hist(df[col])\n",
    "    plt.title(col)\n",
    "    plt.show()"
   ]
  },
  {
   "cell_type": "markdown",
   "metadata": {},
   "source": [
    "__There is a normal distribution across payment type, internet service and tenure__"
   ]
  },
  {
   "cell_type": "markdown",
   "metadata": {},
   "source": [
    "__There are a lot more customers who are not senior citizens than who are__"
   ]
  },
  {
   "cell_type": "markdown",
   "metadata": {},
   "source": [
    "__There are more month-to-month customers than the 1 and 2 year subscriptions combined__"
   ]
  },
  {
   "cell_type": "markdown",
   "metadata": {},
   "source": [
    "### Data Prep\n",
    "\n",
    "- Change device_protection, tech_support and papperless_billing to 0/1\n",
    "\n",
    "- Create a new feature that represents tenure in years.\n",
    "\n",
    "- Create single variables for or find other methods to merge variables representing the information from the following columns:\n",
    "\n",
    "    - phone_service and multiple_lines\n",
    "    - dependents and partner\n",
    "    - streaming_tv & streaming_movies\n",
    "    - online_security & online_backup\n",
    "    \n",
    "- Split your data into train/validate/test."
   ]
  },
  {
   "cell_type": "code",
   "execution_count": 2,
   "metadata": {},
   "outputs": [],
   "source": [
    "from sklearn.model_selection import train_test_split"
   ]
  },
  {
   "cell_type": "code",
   "execution_count": 9,
   "metadata": {},
   "outputs": [],
   "source": [
    "def online_checker(row):\n",
    "        if row == 'Yes':\n",
    "            return 2\n",
    "        elif row == 'No':\n",
    "            return 1\n",
    "        elif row == \"No internet service\":\n",
    "            return 0"
   ]
  },
  {
   "cell_type": "code",
   "execution_count": null,
   "metadata": {},
   "outputs": [],
   "source": [
    "df.device_protection = df.device_protection.apply(online_checker)"
   ]
  },
  {
   "cell_type": "code",
   "execution_count": null,
   "metadata": {},
   "outputs": [],
   "source": [
    "df.tech_support = df.tech_support.apply(online_checker)"
   ]
  },
  {
   "cell_type": "code",
   "execution_count": null,
   "metadata": {},
   "outputs": [],
   "source": [
    "df['tenure_by_year'] = df.tenure / 12"
   ]
  },
  {
   "cell_type": "code",
   "execution_count": 10,
   "metadata": {},
   "outputs": [],
   "source": [
    "def phone_checker(row):\n",
    "        if row == 'Yes':\n",
    "            return 2\n",
    "        elif row == 'No':\n",
    "            return 1\n",
    "        elif row == \"No phone service\":\n",
    "            return 0"
   ]
  },
  {
   "cell_type": "code",
   "execution_count": null,
   "metadata": {},
   "outputs": [],
   "source": [
    "df['multiple_line_values'] = df.multiple_lines.apply(phone_checker)"
   ]
  },
  {
   "cell_type": "code",
   "execution_count": 11,
   "metadata": {},
   "outputs": [],
   "source": [
    "def family_checker(row):\n",
    "        if row == 'Yes Yes':\n",
    "            return 2\n",
    "        elif row == 'Yes No' or row == 'No Yes':\n",
    "            return 1\n",
    "        elif row == 'No No':\n",
    "            return 0"
   ]
  },
  {
   "cell_type": "code",
   "execution_count": null,
   "metadata": {},
   "outputs": [],
   "source": [
    "df['part_or_dep_values'] = df['partner'].str.cat(df['dependents'], sep =\" \") "
   ]
  },
  {
   "cell_type": "code",
   "execution_count": null,
   "metadata": {},
   "outputs": [],
   "source": [
    "df.part_or_dep_values = df.part_or_dep_values.apply(family_checker)"
   ]
  },
  {
   "cell_type": "code",
   "execution_count": 12,
   "metadata": {},
   "outputs": [],
   "source": [
    "def stream_checker(row):\n",
    "        if row == 'Yes Yes':\n",
    "            return 3\n",
    "        elif row == 'Yes No' or row == 'No Yes':\n",
    "            return 2\n",
    "        elif row == 'No No':\n",
    "            return 1\n",
    "        elif row == \"No internet service No internet service\":\n",
    "            return 0"
   ]
  },
  {
   "cell_type": "code",
   "execution_count": null,
   "metadata": {},
   "outputs": [],
   "source": [
    "df['streaming_tv_or_movie'] = df['streaming_tv'].str.cat(df['streaming_movies'], sep =\" \") "
   ]
  },
  {
   "cell_type": "code",
   "execution_count": null,
   "metadata": {},
   "outputs": [],
   "source": [
    "df.streaming_tv_or_movie = df.streaming_tv_or_movie.apply(stream_checker)"
   ]
  },
  {
   "cell_type": "code",
   "execution_count": null,
   "metadata": {},
   "outputs": [],
   "source": [
    "df['security_or_backup_values'] = df.online_security.str.cat(df.online_backup, sep=\" \")"
   ]
  },
  {
   "cell_type": "code",
   "execution_count": null,
   "metadata": {},
   "outputs": [],
   "source": [
    "df.security_or_backup_values = df.security_or_backup_values.apply(stream_checker)"
   ]
  },
  {
   "cell_type": "code",
   "execution_count": null,
   "metadata": {},
   "outputs": [],
   "source": [
    "telco_dummies = pd.get_dummies(df[['gender', 'churn', 'paperless_billing']], drop_first=True)"
   ]
  },
  {
   "cell_type": "code",
   "execution_count": null,
   "metadata": {},
   "outputs": [],
   "source": [
    "df = pd.concat([df, telco_dummies], axis=1)"
   ]
  },
  {
   "cell_type": "code",
   "execution_count": null,
   "metadata": {},
   "outputs": [],
   "source": [
    "col_to_drop = ['gender', 'partner', 'dependents', 'phone_service', 'multiple_lines', 'online_security', 'online_backup', 'streaming_tv', 'streaming_movies', 'paperless_billing', 'churn', 'contract_type', 'internet_service_type', 'payment_type']"
   ]
  },
  {
   "cell_type": "code",
   "execution_count": null,
   "metadata": {
    "scrolled": true
   },
   "outputs": [],
   "source": [
    "df = df.drop(columns = col_to_drop)"
   ]
  },
  {
   "cell_type": "code",
   "execution_count": 21,
   "metadata": {
    "scrolled": true
   },
   "outputs": [
    {
     "data": {
      "text/plain": [
       "No     5174\n",
       "Yes    1869\n",
       "Name: churn, dtype: int64"
      ]
     },
     "execution_count": 21,
     "metadata": {},
     "output_type": "execute_result"
    }
   ],
   "source": [
    "df"
   ]
  },
  {
   "cell_type": "code",
   "execution_count": 13,
   "metadata": {},
   "outputs": [],
   "source": [
    "def telco_split(df):\n",
    "\n",
    "    train_validate, test = train_test_split(df, test_size=.15, \n",
    "                                        random_state=123, \n",
    "                                        stratify=df.churn_Yes)\n",
    "    train, validate = train_test_split(train_validate, test_size=.3, \n",
    "                                   random_state=123, \n",
    "                                   stratify=train_validate.churn_Yes)\n",
    "    return train, validate, test"
   ]
  },
  {
   "cell_type": "code",
   "execution_count": null,
   "metadata": {},
   "outputs": [],
   "source": [
    "train, validate, test = telco_split(df)"
   ]
  },
  {
   "cell_type": "code",
   "execution_count": null,
   "metadata": {},
   "outputs": [],
   "source": [
    "train.shape, validate.shape, test.shape"
   ]
  },
  {
   "cell_type": "code",
   "execution_count": null,
   "metadata": {},
   "outputs": [],
   "source": [
    "train.head()"
   ]
  },
  {
   "cell_type": "code",
   "execution_count": 3,
   "metadata": {},
   "outputs": [],
   "source": [
    "def prep_telco_data(cached = True):\n",
    "    # use my acquire function to read data into a df from a csv file\n",
    "    df = pd.DataFrame(get_telco_data())\n",
    "    #set index as customer_id\n",
    "    df = df.set_index('customer_id')\n",
    "    # change device_protection into numeric values\n",
    "    df.device_protection = df.device_protection.apply(online_checker)\n",
    "    # change tech_suppport into numeric values\n",
    "    df.tech_support = df.tech_support.apply(online_checker)\n",
    "    #create a new column with tenure by the year\n",
    "    df['tenure_by_year'] = df.tenure / 12\n",
    "    #change multiple_lines into a numeric value\n",
    "    df['multiple_line_values'] = df.multiple_lines.apply(phone_checker)\n",
    "    # combine partner and dependents into one category\n",
    "    df['part_or_dep_values'] = df['partner'].str.cat(df['dependents'], sep =\" \") \n",
    "    #change the category into a numeric value\n",
    "    df.part_or_dep_values = df.part_or_dep_values.apply(family_checker)\n",
    "    #combine streaming tv and movies into one category\n",
    "    df['streaming_tv_or_movie'] = df['streaming_tv'].str.cat(df['streaming_movies'], sep =\" \") \n",
    "    #change the category into a numeric value\n",
    "    df.streaming_tv_or_movie = df.streaming_tv_or_movie.apply(stream_checker)\n",
    "    #combine online_security and online_backup into one category\n",
    "    df['security_or_backup_values'] = df.online_security.str.cat(df.online_backup, sep=\" \")\n",
    "    #change the category into a numeric value\n",
    "    df.security_or_backup_values = df.security_or_backup_values.apply(stream_checker)\n",
    "    #create dummy values for gender, churn, and paperless_billing\n",
    "    telco_dummies = pd.get_dummies(df[['gender', 'churn', 'paperless_billing']], drop_first=True)\n",
    "    #add dummy values into the main dataframe\n",
    "    df = pd.concat([df, telco_dummies], axis=1)\n",
    "    #list duplicate columns\n",
    "    col_to_drop = ['gender', 'partner', 'dependents', 'phone_service', 'multiple_lines', 'online_security', 'online_backup', 'streaming_tv', 'streaming_movies', 'paperless_billing', 'churn', 'contract_type', 'internet_service_type', 'payment_type']\n",
    "    #drop duplicate columns\n",
    "    df = df.drop(columns = col_to_drop)\n",
    "    #split data into train, validate and test subsets\n",
    "    train, validate, test = telco_split(df)\n",
    "    return train, validate, test"
   ]
  },
  {
   "cell_type": "code",
   "execution_count": 43,
   "metadata": {},
   "outputs": [],
   "source": [
    "train, validate, test = prep_telco_data()"
   ]
  },
  {
   "cell_type": "code",
   "execution_count": 16,
   "metadata": {},
   "outputs": [
    {
     "data": {
      "text/html": [
       "<div>\n",
       "<style scoped>\n",
       "    .dataframe tbody tr th:only-of-type {\n",
       "        vertical-align: middle;\n",
       "    }\n",
       "\n",
       "    .dataframe tbody tr th {\n",
       "        vertical-align: top;\n",
       "    }\n",
       "\n",
       "    .dataframe thead th {\n",
       "        text-align: right;\n",
       "    }\n",
       "</style>\n",
       "<table border=\"1\" class=\"dataframe\">\n",
       "  <thead>\n",
       "    <tr style=\"text-align: right;\">\n",
       "      <th></th>\n",
       "      <th>payment_type_id</th>\n",
       "      <th>internet_service_type_id</th>\n",
       "      <th>contract_type_id</th>\n",
       "      <th>senior_citizen</th>\n",
       "      <th>tenure</th>\n",
       "      <th>device_protection</th>\n",
       "      <th>tech_support</th>\n",
       "      <th>monthly_charges</th>\n",
       "      <th>total_charges</th>\n",
       "      <th>tenure_by_year</th>\n",
       "      <th>multiple_line_values</th>\n",
       "      <th>part_or_dep_values</th>\n",
       "      <th>streaming_tv_or_movie</th>\n",
       "      <th>security_or_backup_values</th>\n",
       "      <th>gender_Male</th>\n",
       "      <th>churn_Yes</th>\n",
       "      <th>paperless_billing_Yes</th>\n",
       "    </tr>\n",
       "    <tr>\n",
       "      <th>customer_id</th>\n",
       "      <th></th>\n",
       "      <th></th>\n",
       "      <th></th>\n",
       "      <th></th>\n",
       "      <th></th>\n",
       "      <th></th>\n",
       "      <th></th>\n",
       "      <th></th>\n",
       "      <th></th>\n",
       "      <th></th>\n",
       "      <th></th>\n",
       "      <th></th>\n",
       "      <th></th>\n",
       "      <th></th>\n",
       "      <th></th>\n",
       "      <th></th>\n",
       "      <th></th>\n",
       "    </tr>\n",
       "  </thead>\n",
       "  <tbody>\n",
       "    <tr>\n",
       "      <th>3961-SXAXY</th>\n",
       "      <td>3</td>\n",
       "      <td>1</td>\n",
       "      <td>1</td>\n",
       "      <td>0</td>\n",
       "      <td>1</td>\n",
       "      <td>1</td>\n",
       "      <td>1</td>\n",
       "      <td>44.05</td>\n",
       "      <td>44.05</td>\n",
       "      <td>0.083333</td>\n",
       "      <td>1</td>\n",
       "      <td>0</td>\n",
       "      <td>1</td>\n",
       "      <td>1</td>\n",
       "      <td>1</td>\n",
       "      <td>0</td>\n",
       "      <td>1</td>\n",
       "    </tr>\n",
       "    <tr>\n",
       "      <th>8085-MSNLK</th>\n",
       "      <td>2</td>\n",
       "      <td>2</td>\n",
       "      <td>3</td>\n",
       "      <td>0</td>\n",
       "      <td>62</td>\n",
       "      <td>2</td>\n",
       "      <td>2</td>\n",
       "      <td>113.95</td>\n",
       "      <td>6891.4</td>\n",
       "      <td>5.166667</td>\n",
       "      <td>2</td>\n",
       "      <td>1</td>\n",
       "      <td>3</td>\n",
       "      <td>3</td>\n",
       "      <td>0</td>\n",
       "      <td>0</td>\n",
       "      <td>0</td>\n",
       "    </tr>\n",
       "    <tr>\n",
       "      <th>3873-WOSBC</th>\n",
       "      <td>4</td>\n",
       "      <td>3</td>\n",
       "      <td>3</td>\n",
       "      <td>0</td>\n",
       "      <td>67</td>\n",
       "      <td>0</td>\n",
       "      <td>0</td>\n",
       "      <td>25.60</td>\n",
       "      <td>1784.9</td>\n",
       "      <td>5.583333</td>\n",
       "      <td>2</td>\n",
       "      <td>1</td>\n",
       "      <td>0</td>\n",
       "      <td>0</td>\n",
       "      <td>1</td>\n",
       "      <td>0</td>\n",
       "      <td>0</td>\n",
       "    </tr>\n",
       "    <tr>\n",
       "      <th>4544-RXFMG</th>\n",
       "      <td>2</td>\n",
       "      <td>1</td>\n",
       "      <td>2</td>\n",
       "      <td>0</td>\n",
       "      <td>8</td>\n",
       "      <td>1</td>\n",
       "      <td>1</td>\n",
       "      <td>43.45</td>\n",
       "      <td>345.5</td>\n",
       "      <td>0.666667</td>\n",
       "      <td>1</td>\n",
       "      <td>2</td>\n",
       "      <td>1</td>\n",
       "      <td>1</td>\n",
       "      <td>1</td>\n",
       "      <td>0</td>\n",
       "      <td>1</td>\n",
       "    </tr>\n",
       "    <tr>\n",
       "      <th>8644-XLFBW</th>\n",
       "      <td>1</td>\n",
       "      <td>2</td>\n",
       "      <td>1</td>\n",
       "      <td>1</td>\n",
       "      <td>1</td>\n",
       "      <td>1</td>\n",
       "      <td>1</td>\n",
       "      <td>71.65</td>\n",
       "      <td>71.65</td>\n",
       "      <td>0.083333</td>\n",
       "      <td>1</td>\n",
       "      <td>0</td>\n",
       "      <td>1</td>\n",
       "      <td>1</td>\n",
       "      <td>1</td>\n",
       "      <td>1</td>\n",
       "      <td>1</td>\n",
       "    </tr>\n",
       "    <tr>\n",
       "      <th>...</th>\n",
       "      <td>...</td>\n",
       "      <td>...</td>\n",
       "      <td>...</td>\n",
       "      <td>...</td>\n",
       "      <td>...</td>\n",
       "      <td>...</td>\n",
       "      <td>...</td>\n",
       "      <td>...</td>\n",
       "      <td>...</td>\n",
       "      <td>...</td>\n",
       "      <td>...</td>\n",
       "      <td>...</td>\n",
       "      <td>...</td>\n",
       "      <td>...</td>\n",
       "      <td>...</td>\n",
       "      <td>...</td>\n",
       "      <td>...</td>\n",
       "    </tr>\n",
       "    <tr>\n",
       "      <th>7317-GGVPB</th>\n",
       "      <td>4</td>\n",
       "      <td>2</td>\n",
       "      <td>3</td>\n",
       "      <td>0</td>\n",
       "      <td>71</td>\n",
       "      <td>2</td>\n",
       "      <td>2</td>\n",
       "      <td>108.60</td>\n",
       "      <td>7690.9</td>\n",
       "      <td>5.916667</td>\n",
       "      <td>2</td>\n",
       "      <td>1</td>\n",
       "      <td>3</td>\n",
       "      <td>2</td>\n",
       "      <td>1</td>\n",
       "      <td>1</td>\n",
       "      <td>1</td>\n",
       "    </tr>\n",
       "    <tr>\n",
       "      <th>6332-FBZRI</th>\n",
       "      <td>4</td>\n",
       "      <td>1</td>\n",
       "      <td>2</td>\n",
       "      <td>0</td>\n",
       "      <td>67</td>\n",
       "      <td>2</td>\n",
       "      <td>2</td>\n",
       "      <td>69.35</td>\n",
       "      <td>4653.25</td>\n",
       "      <td>5.583333</td>\n",
       "      <td>2</td>\n",
       "      <td>2</td>\n",
       "      <td>1</td>\n",
       "      <td>3</td>\n",
       "      <td>1</td>\n",
       "      <td>0</td>\n",
       "      <td>1</td>\n",
       "    </tr>\n",
       "    <tr>\n",
       "      <th>7554-NEWDD</th>\n",
       "      <td>3</td>\n",
       "      <td>3</td>\n",
       "      <td>3</td>\n",
       "      <td>0</td>\n",
       "      <td>10</td>\n",
       "      <td>0</td>\n",
       "      <td>0</td>\n",
       "      <td>25.70</td>\n",
       "      <td>251.6</td>\n",
       "      <td>0.833333</td>\n",
       "      <td>2</td>\n",
       "      <td>0</td>\n",
       "      <td>0</td>\n",
       "      <td>0</td>\n",
       "      <td>1</td>\n",
       "      <td>0</td>\n",
       "      <td>0</td>\n",
       "    </tr>\n",
       "    <tr>\n",
       "      <th>9127-FHJBZ</th>\n",
       "      <td>1</td>\n",
       "      <td>2</td>\n",
       "      <td>3</td>\n",
       "      <td>0</td>\n",
       "      <td>72</td>\n",
       "      <td>2</td>\n",
       "      <td>2</td>\n",
       "      <td>114.00</td>\n",
       "      <td>8093.15</td>\n",
       "      <td>6.000000</td>\n",
       "      <td>2</td>\n",
       "      <td>2</td>\n",
       "      <td>3</td>\n",
       "      <td>3</td>\n",
       "      <td>1</td>\n",
       "      <td>0</td>\n",
       "      <td>1</td>\n",
       "    </tr>\n",
       "    <tr>\n",
       "      <th>1930-BZLHI</th>\n",
       "      <td>2</td>\n",
       "      <td>3</td>\n",
       "      <td>2</td>\n",
       "      <td>0</td>\n",
       "      <td>21</td>\n",
       "      <td>0</td>\n",
       "      <td>0</td>\n",
       "      <td>20.35</td>\n",
       "      <td>422.7</td>\n",
       "      <td>1.750000</td>\n",
       "      <td>1</td>\n",
       "      <td>0</td>\n",
       "      <td>0</td>\n",
       "      <td>0</td>\n",
       "      <td>1</td>\n",
       "      <td>0</td>\n",
       "      <td>1</td>\n",
       "    </tr>\n",
       "  </tbody>\n",
       "</table>\n",
       "<p>4190 rows × 17 columns</p>\n",
       "</div>"
      ],
      "text/plain": [
       "             payment_type_id  internet_service_type_id  contract_type_id  \\\n",
       "customer_id                                                                \n",
       "3961-SXAXY                 3                         1                 1   \n",
       "8085-MSNLK                 2                         2                 3   \n",
       "3873-WOSBC                 4                         3                 3   \n",
       "4544-RXFMG                 2                         1                 2   \n",
       "8644-XLFBW                 1                         2                 1   \n",
       "...                      ...                       ...               ...   \n",
       "7317-GGVPB                 4                         2                 3   \n",
       "6332-FBZRI                 4                         1                 2   \n",
       "7554-NEWDD                 3                         3                 3   \n",
       "9127-FHJBZ                 1                         2                 3   \n",
       "1930-BZLHI                 2                         3                 2   \n",
       "\n",
       "             senior_citizen  tenure  device_protection  tech_support  \\\n",
       "customer_id                                                            \n",
       "3961-SXAXY                0       1                  1             1   \n",
       "8085-MSNLK                0      62                  2             2   \n",
       "3873-WOSBC                0      67                  0             0   \n",
       "4544-RXFMG                0       8                  1             1   \n",
       "8644-XLFBW                1       1                  1             1   \n",
       "...                     ...     ...                ...           ...   \n",
       "7317-GGVPB                0      71                  2             2   \n",
       "6332-FBZRI                0      67                  2             2   \n",
       "7554-NEWDD                0      10                  0             0   \n",
       "9127-FHJBZ                0      72                  2             2   \n",
       "1930-BZLHI                0      21                  0             0   \n",
       "\n",
       "             monthly_charges total_charges  tenure_by_year  \\\n",
       "customer_id                                                  \n",
       "3961-SXAXY             44.05         44.05        0.083333   \n",
       "8085-MSNLK            113.95        6891.4        5.166667   \n",
       "3873-WOSBC             25.60        1784.9        5.583333   \n",
       "4544-RXFMG             43.45         345.5        0.666667   \n",
       "8644-XLFBW             71.65         71.65        0.083333   \n",
       "...                      ...           ...             ...   \n",
       "7317-GGVPB            108.60        7690.9        5.916667   \n",
       "6332-FBZRI             69.35       4653.25        5.583333   \n",
       "7554-NEWDD             25.70         251.6        0.833333   \n",
       "9127-FHJBZ            114.00       8093.15        6.000000   \n",
       "1930-BZLHI             20.35         422.7        1.750000   \n",
       "\n",
       "             multiple_line_values  part_or_dep_values  streaming_tv_or_movie  \\\n",
       "customer_id                                                                    \n",
       "3961-SXAXY                      1                   0                      1   \n",
       "8085-MSNLK                      2                   1                      3   \n",
       "3873-WOSBC                      2                   1                      0   \n",
       "4544-RXFMG                      1                   2                      1   \n",
       "8644-XLFBW                      1                   0                      1   \n",
       "...                           ...                 ...                    ...   \n",
       "7317-GGVPB                      2                   1                      3   \n",
       "6332-FBZRI                      2                   2                      1   \n",
       "7554-NEWDD                      2                   0                      0   \n",
       "9127-FHJBZ                      2                   2                      3   \n",
       "1930-BZLHI                      1                   0                      0   \n",
       "\n",
       "             security_or_backup_values  gender_Male  churn_Yes  \\\n",
       "customer_id                                                      \n",
       "3961-SXAXY                           1            1          0   \n",
       "8085-MSNLK                           3            0          0   \n",
       "3873-WOSBC                           0            1          0   \n",
       "4544-RXFMG                           1            1          0   \n",
       "8644-XLFBW                           1            1          1   \n",
       "...                                ...          ...        ...   \n",
       "7317-GGVPB                           2            1          1   \n",
       "6332-FBZRI                           3            1          0   \n",
       "7554-NEWDD                           0            1          0   \n",
       "9127-FHJBZ                           3            1          0   \n",
       "1930-BZLHI                           0            1          0   \n",
       "\n",
       "             paperless_billing_Yes  \n",
       "customer_id                         \n",
       "3961-SXAXY                       1  \n",
       "8085-MSNLK                       0  \n",
       "3873-WOSBC                       0  \n",
       "4544-RXFMG                       1  \n",
       "8644-XLFBW                       1  \n",
       "...                            ...  \n",
       "7317-GGVPB                       1  \n",
       "6332-FBZRI                       1  \n",
       "7554-NEWDD                       0  \n",
       "9127-FHJBZ                       1  \n",
       "1930-BZLHI                       1  \n",
       "\n",
       "[4190 rows x 17 columns]"
      ]
     },
     "execution_count": 16,
     "metadata": {},
     "output_type": "execute_result"
    }
   ],
   "source": [
    "train"
   ]
  },
  {
   "cell_type": "markdown",
   "metadata": {},
   "source": [
    "### Data Exploration\n",
    "\n",
    "Answer the key questions, your hypotheses, and figure out the drivers of churn. You are required to run at least 2 statistical tests in your data exploration. Make sure you document your hypotheses and set your alpha before running the tests and document your findings well.\n",
    "\n",
    "- If a group is identified by tenure, is there a cohort or cohorts who have a higher rate of churn than other cohorts?\n",
    "\n",
    "    - Plot the rate of churn on a line chart where x is the tenure and y is the rate of churn (customers churned/total customers)\n",
    "\n",
    "- Are there features that indicate a higher propensity to churn?\n",
    "\n",
    "    - For Example: type of internet service, type of phone service, online security and backup, senior citizens, paying more than x% of customers with the same services, etc.\n",
    "\n",
    "- Is there a price threshold for specific services where the likelihood of churn increases once price for those services goes past that point? If so, what is that point for what service(s)?\n",
    "\n",
    "- If we looked at churn rate for month-to-month customers after the 12th month and that of 1-year contract customers after the 12th month, are those rates comparable?\n",
    "\n",
    "- Controlling for services (phone_id, internet_service_type_id, online_security_backup, device_protection, tech_support, and contract_type_id), is the mean monthly_charges of those who have churned significantly different from that of those who have not churned? (Use a t-test to answer this.)\n",
    "\n",
    "- How much of monthly_charges can be explained by internet_service_type?\n",
    "\n",
    "    - Hint: correlation test - State your hypotheses and your conclusion clearly.\n",
    "- How much of monthly_charges can be explained by internet_service_type + phone_service_type (0, 1, or multiple lines). State your hypotheses and your conclusion clearly.\n",
    "\n",
    "- Create visualizations exploring the interactions of variables (independent with independent and independent with dependent). The goal is to identify features that are related to churn, identify any data integrity issues, understand 'how the data works'.\n",
    "\n",
    "    - For example: We may find that all who have online services also have device protection. In that case, we don't need both of those.\n",
    "\n",
    "- The visualizations done in your analysis for the questions above work toward answering the target question below.\n",
    "\n",
    "    - What can you say about each variable's relationship to churn, based on your initial exploration? If there appears to be some sort of interaction or correlation, assume there is no causal relationship and brainstorm (and document) ideas on reasons there could be correlation.\n",
    "\n",
    "- Summarize your conclusions, provide clear answers to the specific questions, and summarize any takeaways/action plan from the work above."
   ]
  },
  {
   "cell_type": "code",
   "execution_count": 7,
   "metadata": {},
   "outputs": [],
   "source": [
    "from math import sqrt\n",
    "from scipy import stats\n",
    "import seaborn as sns\n",
    "from pydataset import data\n",
    "from prepare import prep_telco_data"
   ]
  },
  {
   "cell_type": "code",
   "execution_count": 8,
   "metadata": {},
   "outputs": [],
   "source": [
    "train, validate, test = prep_telco_data()"
   ]
  },
  {
   "cell_type": "code",
   "execution_count": 9,
   "metadata": {},
   "outputs": [
    {
     "data": {
      "text/html": [
       "<div>\n",
       "<style scoped>\n",
       "    .dataframe tbody tr th:only-of-type {\n",
       "        vertical-align: middle;\n",
       "    }\n",
       "\n",
       "    .dataframe tbody tr th {\n",
       "        vertical-align: top;\n",
       "    }\n",
       "\n",
       "    .dataframe thead th {\n",
       "        text-align: right;\n",
       "    }\n",
       "</style>\n",
       "<table border=\"1\" class=\"dataframe\">\n",
       "  <thead>\n",
       "    <tr style=\"text-align: right;\">\n",
       "      <th></th>\n",
       "      <th>payment_type_id</th>\n",
       "      <th>internet_service_type_id</th>\n",
       "      <th>contract_type_id</th>\n",
       "      <th>senior_citizen</th>\n",
       "      <th>tenure</th>\n",
       "      <th>device_protection</th>\n",
       "      <th>tech_support</th>\n",
       "      <th>monthly_charges</th>\n",
       "      <th>total_charges</th>\n",
       "      <th>tenure_by_year</th>\n",
       "      <th>multiple_line_values</th>\n",
       "      <th>part_or_dep_values</th>\n",
       "      <th>streaming_tv_or_movie</th>\n",
       "      <th>security_or_backup_values</th>\n",
       "      <th>gender_Male</th>\n",
       "      <th>churn_Yes</th>\n",
       "      <th>paperless_billing_Yes</th>\n",
       "    </tr>\n",
       "    <tr>\n",
       "      <th>customer_id</th>\n",
       "      <th></th>\n",
       "      <th></th>\n",
       "      <th></th>\n",
       "      <th></th>\n",
       "      <th></th>\n",
       "      <th></th>\n",
       "      <th></th>\n",
       "      <th></th>\n",
       "      <th></th>\n",
       "      <th></th>\n",
       "      <th></th>\n",
       "      <th></th>\n",
       "      <th></th>\n",
       "      <th></th>\n",
       "      <th></th>\n",
       "      <th></th>\n",
       "      <th></th>\n",
       "    </tr>\n",
       "  </thead>\n",
       "  <tbody>\n",
       "    <tr>\n",
       "      <th>3961-SXAXY</th>\n",
       "      <td>3</td>\n",
       "      <td>1</td>\n",
       "      <td>1</td>\n",
       "      <td>0</td>\n",
       "      <td>1</td>\n",
       "      <td>1</td>\n",
       "      <td>1</td>\n",
       "      <td>44.05</td>\n",
       "      <td>44.05</td>\n",
       "      <td>0.083333</td>\n",
       "      <td>1</td>\n",
       "      <td>0</td>\n",
       "      <td>1</td>\n",
       "      <td>1</td>\n",
       "      <td>1</td>\n",
       "      <td>0</td>\n",
       "      <td>1</td>\n",
       "    </tr>\n",
       "    <tr>\n",
       "      <th>8085-MSNLK</th>\n",
       "      <td>2</td>\n",
       "      <td>2</td>\n",
       "      <td>3</td>\n",
       "      <td>0</td>\n",
       "      <td>62</td>\n",
       "      <td>2</td>\n",
       "      <td>2</td>\n",
       "      <td>113.95</td>\n",
       "      <td>6891.4</td>\n",
       "      <td>5.166667</td>\n",
       "      <td>2</td>\n",
       "      <td>1</td>\n",
       "      <td>3</td>\n",
       "      <td>3</td>\n",
       "      <td>0</td>\n",
       "      <td>0</td>\n",
       "      <td>0</td>\n",
       "    </tr>\n",
       "    <tr>\n",
       "      <th>3873-WOSBC</th>\n",
       "      <td>4</td>\n",
       "      <td>3</td>\n",
       "      <td>3</td>\n",
       "      <td>0</td>\n",
       "      <td>67</td>\n",
       "      <td>0</td>\n",
       "      <td>0</td>\n",
       "      <td>25.60</td>\n",
       "      <td>1784.9</td>\n",
       "      <td>5.583333</td>\n",
       "      <td>2</td>\n",
       "      <td>1</td>\n",
       "      <td>0</td>\n",
       "      <td>0</td>\n",
       "      <td>1</td>\n",
       "      <td>0</td>\n",
       "      <td>0</td>\n",
       "    </tr>\n",
       "    <tr>\n",
       "      <th>4544-RXFMG</th>\n",
       "      <td>2</td>\n",
       "      <td>1</td>\n",
       "      <td>2</td>\n",
       "      <td>0</td>\n",
       "      <td>8</td>\n",
       "      <td>1</td>\n",
       "      <td>1</td>\n",
       "      <td>43.45</td>\n",
       "      <td>345.5</td>\n",
       "      <td>0.666667</td>\n",
       "      <td>1</td>\n",
       "      <td>2</td>\n",
       "      <td>1</td>\n",
       "      <td>1</td>\n",
       "      <td>1</td>\n",
       "      <td>0</td>\n",
       "      <td>1</td>\n",
       "    </tr>\n",
       "    <tr>\n",
       "      <th>8644-XLFBW</th>\n",
       "      <td>1</td>\n",
       "      <td>2</td>\n",
       "      <td>1</td>\n",
       "      <td>1</td>\n",
       "      <td>1</td>\n",
       "      <td>1</td>\n",
       "      <td>1</td>\n",
       "      <td>71.65</td>\n",
       "      <td>71.65</td>\n",
       "      <td>0.083333</td>\n",
       "      <td>1</td>\n",
       "      <td>0</td>\n",
       "      <td>1</td>\n",
       "      <td>1</td>\n",
       "      <td>1</td>\n",
       "      <td>1</td>\n",
       "      <td>1</td>\n",
       "    </tr>\n",
       "  </tbody>\n",
       "</table>\n",
       "</div>"
      ],
      "text/plain": [
       "             payment_type_id  internet_service_type_id  contract_type_id  \\\n",
       "customer_id                                                                \n",
       "3961-SXAXY                 3                         1                 1   \n",
       "8085-MSNLK                 2                         2                 3   \n",
       "3873-WOSBC                 4                         3                 3   \n",
       "4544-RXFMG                 2                         1                 2   \n",
       "8644-XLFBW                 1                         2                 1   \n",
       "\n",
       "             senior_citizen  tenure  device_protection  tech_support  \\\n",
       "customer_id                                                            \n",
       "3961-SXAXY                0       1                  1             1   \n",
       "8085-MSNLK                0      62                  2             2   \n",
       "3873-WOSBC                0      67                  0             0   \n",
       "4544-RXFMG                0       8                  1             1   \n",
       "8644-XLFBW                1       1                  1             1   \n",
       "\n",
       "             monthly_charges total_charges  tenure_by_year  \\\n",
       "customer_id                                                  \n",
       "3961-SXAXY             44.05         44.05        0.083333   \n",
       "8085-MSNLK            113.95        6891.4        5.166667   \n",
       "3873-WOSBC             25.60        1784.9        5.583333   \n",
       "4544-RXFMG             43.45         345.5        0.666667   \n",
       "8644-XLFBW             71.65         71.65        0.083333   \n",
       "\n",
       "             multiple_line_values  part_or_dep_values  streaming_tv_or_movie  \\\n",
       "customer_id                                                                    \n",
       "3961-SXAXY                      1                   0                      1   \n",
       "8085-MSNLK                      2                   1                      3   \n",
       "3873-WOSBC                      2                   1                      0   \n",
       "4544-RXFMG                      1                   2                      1   \n",
       "8644-XLFBW                      1                   0                      1   \n",
       "\n",
       "             security_or_backup_values  gender_Male  churn_Yes  \\\n",
       "customer_id                                                      \n",
       "3961-SXAXY                           1            1          0   \n",
       "8085-MSNLK                           3            0          0   \n",
       "3873-WOSBC                           0            1          0   \n",
       "4544-RXFMG                           1            1          0   \n",
       "8644-XLFBW                           1            1          1   \n",
       "\n",
       "             paperless_billing_Yes  \n",
       "customer_id                         \n",
       "3961-SXAXY                       1  \n",
       "8085-MSNLK                       0  \n",
       "3873-WOSBC                       0  \n",
       "4544-RXFMG                       1  \n",
       "8644-XLFBW                       1  "
      ]
     },
     "execution_count": 9,
     "metadata": {},
     "output_type": "execute_result"
    }
   ],
   "source": [
    "train.head()"
   ]
  },
  {
   "cell_type": "code",
   "execution_count": 15,
   "metadata": {},
   "outputs": [
    {
     "data": {
      "text/plain": [
       "0    3078\n",
       "1    1112\n",
       "Name: churn_Yes, dtype: int64"
      ]
     },
     "execution_count": 15,
     "metadata": {},
     "output_type": "execute_result"
    }
   ],
   "source": [
    "train.churn_Yes.value_counts()"
   ]
  },
  {
   "cell_type": "code",
   "execution_count": 16,
   "metadata": {},
   "outputs": [
    {
     "data": {
      "text/plain": [
       "2    1798\n",
       "1    1480\n",
       "3     912\n",
       "Name: internet_service_type_id, dtype: int64"
      ]
     },
     "execution_count": 16,
     "metadata": {},
     "output_type": "execute_result"
    }
   ],
   "source": [
    "train.internet_service_type_id.value_counts()"
   ]
  },
  {
   "cell_type": "markdown",
   "metadata": {},
   "source": [
    "### Is a customer churning independent from the internet service product that they are provided?"
   ]
  },
  {
   "cell_type": "markdown",
   "metadata": {},
   "source": [
    "#### Hypothesis 1\n",
    "- $H_0$: Customers internet service type and churn are __independent__\n",
    "- $H_a$: Customers internet service type and churn are __dependent__"
   ]
  },
  {
   "cell_type": "code",
   "execution_count": 26,
   "metadata": {},
   "outputs": [
    {
     "data": {
      "text/html": [
       "<div>\n",
       "<style scoped>\n",
       "    .dataframe tbody tr th:only-of-type {\n",
       "        vertical-align: middle;\n",
       "    }\n",
       "\n",
       "    .dataframe tbody tr th {\n",
       "        vertical-align: top;\n",
       "    }\n",
       "\n",
       "    .dataframe thead th {\n",
       "        text-align: right;\n",
       "    }\n",
       "</style>\n",
       "<table border=\"1\" class=\"dataframe\">\n",
       "  <thead>\n",
       "    <tr style=\"text-align: right;\">\n",
       "      <th>internet_service_type_id</th>\n",
       "      <th>1</th>\n",
       "      <th>2</th>\n",
       "      <th>3</th>\n",
       "      <th>All</th>\n",
       "    </tr>\n",
       "    <tr>\n",
       "      <th>churn_Yes</th>\n",
       "      <th></th>\n",
       "      <th></th>\n",
       "      <th></th>\n",
       "      <th></th>\n",
       "    </tr>\n",
       "  </thead>\n",
       "  <tbody>\n",
       "    <tr>\n",
       "      <th>0</th>\n",
       "      <td>1208</td>\n",
       "      <td>1024</td>\n",
       "      <td>846</td>\n",
       "      <td>3078</td>\n",
       "    </tr>\n",
       "    <tr>\n",
       "      <th>1</th>\n",
       "      <td>272</td>\n",
       "      <td>774</td>\n",
       "      <td>66</td>\n",
       "      <td>1112</td>\n",
       "    </tr>\n",
       "    <tr>\n",
       "      <th>All</th>\n",
       "      <td>1480</td>\n",
       "      <td>1798</td>\n",
       "      <td>912</td>\n",
       "      <td>4190</td>\n",
       "    </tr>\n",
       "  </tbody>\n",
       "</table>\n",
       "</div>"
      ],
      "text/plain": [
       "internet_service_type_id     1     2    3   All\n",
       "churn_Yes                                      \n",
       "0                         1208  1024  846  3078\n",
       "1                          272   774   66  1112\n",
       "All                       1480  1798  912  4190"
      ]
     },
     "execution_count": 26,
     "metadata": {},
     "output_type": "execute_result"
    }
   ],
   "source": [
    "observed = pd.crosstab(train.churn_Yes, train.internet_service_type_id, margins = True)\n",
    "observed"
   ]
  },
  {
   "cell_type": "code",
   "execution_count": 25,
   "metadata": {},
   "outputs": [],
   "source": [
    "alpha = .05"
   ]
  },
  {
   "cell_type": "code",
   "execution_count": 27,
   "metadata": {},
   "outputs": [
    {
     "name": "stdout",
     "output_type": "stream",
     "text": [
      "We reject the null\n"
     ]
    },
    {
     "data": {
      "text/plain": [
       "1.1296438648460164e-99"
      ]
     },
     "execution_count": 27,
     "metadata": {},
     "output_type": "execute_result"
    }
   ],
   "source": [
    "chi2, p, degf, expected = stats.chi2_contingency(observed)\n",
    "if p < alpha:\n",
    "    print(\"We reject the null\")\n",
    "else:\n",
    "    print(\"We fail to reject the null\")\n",
    "p"
   ]
  },
  {
   "cell_type": "markdown",
   "metadata": {},
   "source": [
    "__Conclusion__: We reject the null hypothesis. We can say that we have confidence that internet service type and customer churn are dependent. There is a relationship between the two. "
   ]
  },
  {
   "cell_type": "markdown",
   "metadata": {},
   "source": [
    "### Is there a difference in monthly charges for customers who churn vs customers who stay?"
   ]
  },
  {
   "cell_type": "code",
   "execution_count": 29,
   "metadata": {},
   "outputs": [
    {
     "data": {
      "text/plain": [
       "churn_Yes\n",
       "0    60.693096\n",
       "1    74.496043\n",
       "Name: monthly_charges, dtype: float64"
      ]
     },
     "execution_count": 29,
     "metadata": {},
     "output_type": "execute_result"
    }
   ],
   "source": [
    "train.groupby('churn_Yes').monthly_charges.mean()"
   ]
  },
  {
   "cell_type": "code",
   "execution_count": 33,
   "metadata": {},
   "outputs": [],
   "source": [
    "churn_avg_price = train[train.churn_Yes == 1].monthly_charges\n",
    "no_churn_avg_price = train[train.churn_Yes == 0].monthly_charges"
   ]
  },
  {
   "cell_type": "markdown",
   "metadata": {},
   "source": [
    "__A. Plot Distribution__"
   ]
  },
  {
   "cell_type": "code",
   "execution_count": 35,
   "metadata": {},
   "outputs": [
    {
     "data": {
      "image/png": "[encoded data removed]",
      "text/plain": [
       "<Figure size 432x288 with 1 Axes>"
      ]
     },
     "metadata": {
      "needs_background": "light"
     },
     "output_type": "display_data"
    }
   ],
   "source": [
    "churn_avg_price.hist()\n",
    "plt.show()"
   ]
  },
  {
   "cell_type": "code",
   "execution_count": 36,
   "metadata": {},
   "outputs": [
    {
     "data": {
      "image/png": "[encoded data removed]",
      "text/plain": [
       "<Figure size 432x288 with 1 Axes>"
      ]
     },
     "metadata": {
      "needs_background": "light"
     },
     "output_type": "display_data"
    }
   ],
   "source": [
    "no_churn_avg_price.hist()\n",
    "plt.show()"
   ]
  },
  {
   "cell_type": "markdown",
   "metadata": {},
   "source": [
    "__B. Set Hypothesis__"
   ]
  },
  {
   "cell_type": "markdown",
   "metadata": {},
   "source": [
    "#### Hypothesis 2\n",
    "- $H_0$: The average monthly charge from churned customers __=__ the average monthly price from customers who stayed\n",
    "- $H_a$: The average monthly charge from churned customers __!=__ the average monthly price from customers who stayed"
   ]
  },
  {
   "cell_type": "markdown",
   "metadata": {},
   "source": [
    "__C. Set Alpha__"
   ]
  },
  {
   "cell_type": "code",
   "execution_count": 39,
   "metadata": {},
   "outputs": [],
   "source": [
    "alpha = .05"
   ]
  },
  {
   "cell_type": "markdown",
   "metadata": {},
   "source": [
    "__D. Verify Assumptions__\n",
    "\n",
    "- normal distribution: Yes\n",
    "- large enough: Yes\n",
    "- variance: ??"
   ]
  },
  {
   "cell_type": "code",
   "execution_count": 40,
   "metadata": {},
   "outputs": [
    {
     "data": {
      "text/plain": [
       "617.9259744283776"
      ]
     },
     "execution_count": 40,
     "metadata": {},
     "output_type": "execute_result"
    }
   ],
   "source": [
    "churn_avg_price.var()"
   ]
  },
  {
   "cell_type": "code",
   "execution_count": 38,
   "metadata": {},
   "outputs": [
    {
     "data": {
      "text/plain": [
       "953.8134939205495"
      ]
     },
     "execution_count": 38,
     "metadata": {},
     "output_type": "execute_result"
    }
   ],
   "source": [
    "no_churn_avg_price.var()"
   ]
  },
  {
   "cell_type": "markdown",
   "metadata": {},
   "source": [
    "Variance does not equal"
   ]
  },
  {
   "cell_type": "markdown",
   "metadata": {},
   "source": [
    "__E. Compute Test Statistics__"
   ]
  },
  {
   "cell_type": "code",
   "execution_count": 41,
   "metadata": {},
   "outputs": [
    {
     "data": {
      "text/plain": [
       "(14.836135271892125, 9.965244195444622e-48)"
      ]
     },
     "execution_count": 41,
     "metadata": {},
     "output_type": "execute_result"
    }
   ],
   "source": [
    "t, p = stats.ttest_ind(churn_avg_price, no_churn_avg_price, equal_var = False)\n",
    "t, p"
   ]
  },
  {
   "cell_type": "code",
   "execution_count": 42,
   "metadata": {},
   "outputs": [
    {
     "name": "stdout",
     "output_type": "stream",
     "text": [
      "We reject the null hypothesis\n"
     ]
    }
   ],
   "source": [
    "if p < alpha:\n",
    "    print(\"We reject the null hypothesis\")\n",
    "else:\n",
    "    print(\"We fail to reject the null\")"
   ]
  },
  {
   "cell_type": "markdown",
   "metadata": {},
   "source": [
    "__Conclusion__: We reject the null hypothesis. There is not a difference in average monthly price from customers who churn vs customers who stay."
   ]
  },
  {
   "cell_type": "markdown",
   "metadata": {},
   "source": [
    "## Modeling and Evaluation"
   ]
  },
  {
   "cell_type": "markdown",
   "metadata": {},
   "source": [
    "You are required to establish a baseline accuracy to determine if having a model is better than no model and train and compare at least 3 different models. Document these steps well.\n",
    "\n",
    "In Your Notebook\n",
    "\n",
    "- Feature Selection: Are there any variables that seem to provide limited to no additional information? If so, remove them.\n",
    "\n",
    "- Train (fit, transform, evaluate) multiple different models, varying the model type and hyperparameters.\n",
    "\n",
    "- Compare evaluation metrics across all the models, and select the ones you want to test using your validate dataframe.\n",
    "\n",
    "- Based on how your evaluation of your models using the train and validate datasets, choose your best model that you will try with your test data.\n",
    "\n",
    "- Test the final model (transform, evaluate) on your out-of-sample data (the testing data set). Summarize the performance. Interpret your results.\n",
    "\n",
    "Draw Conclusions\n",
    "\n",
    "- Summarize your findings.\n",
    "\n",
    "- Key takeaways and next steps should be documented here."
   ]
  },
  {
   "cell_type": "code",
   "execution_count": 53,
   "metadata": {},
   "outputs": [
    {
     "data": {
      "text/html": [
       "<div>\n",
       "<style scoped>\n",
       "    .dataframe tbody tr th:only-of-type {\n",
       "        vertical-align: middle;\n",
       "    }\n",
       "\n",
       "    .dataframe tbody tr th {\n",
       "        vertical-align: top;\n",
       "    }\n",
       "\n",
       "    .dataframe thead th {\n",
       "        text-align: right;\n",
       "    }\n",
       "</style>\n",
       "<table border=\"1\" class=\"dataframe\">\n",
       "  <thead>\n",
       "    <tr style=\"text-align: right;\">\n",
       "      <th></th>\n",
       "      <th>payment_type_id</th>\n",
       "      <th>internet_service_type_id</th>\n",
       "      <th>contract_type_id</th>\n",
       "      <th>senior_citizen</th>\n",
       "      <th>tenure</th>\n",
       "      <th>device_protection</th>\n",
       "      <th>tech_support</th>\n",
       "      <th>monthly_charges</th>\n",
       "      <th>total_charges</th>\n",
       "      <th>tenure_by_year</th>\n",
       "      <th>multiple_line_values</th>\n",
       "      <th>part_or_dep_values</th>\n",
       "      <th>streaming_tv_or_movie</th>\n",
       "      <th>security_or_backup_values</th>\n",
       "      <th>gender_Male</th>\n",
       "      <th>churn_Yes</th>\n",
       "      <th>paperless_billing_Yes</th>\n",
       "      <th>baseline</th>\n",
       "    </tr>\n",
       "    <tr>\n",
       "      <th>customer_id</th>\n",
       "      <th></th>\n",
       "      <th></th>\n",
       "      <th></th>\n",
       "      <th></th>\n",
       "      <th></th>\n",
       "      <th></th>\n",
       "      <th></th>\n",
       "      <th></th>\n",
       "      <th></th>\n",
       "      <th></th>\n",
       "      <th></th>\n",
       "      <th></th>\n",
       "      <th></th>\n",
       "      <th></th>\n",
       "      <th></th>\n",
       "      <th></th>\n",
       "      <th></th>\n",
       "      <th></th>\n",
       "    </tr>\n",
       "  </thead>\n",
       "  <tbody>\n",
       "    <tr>\n",
       "      <th>3961-SXAXY</th>\n",
       "      <td>3</td>\n",
       "      <td>1</td>\n",
       "      <td>1</td>\n",
       "      <td>0</td>\n",
       "      <td>1</td>\n",
       "      <td>1</td>\n",
       "      <td>1</td>\n",
       "      <td>44.05</td>\n",
       "      <td>44.05</td>\n",
       "      <td>0.083333</td>\n",
       "      <td>1</td>\n",
       "      <td>0</td>\n",
       "      <td>1</td>\n",
       "      <td>1</td>\n",
       "      <td>1</td>\n",
       "      <td>0</td>\n",
       "      <td>1</td>\n",
       "      <td>0</td>\n",
       "    </tr>\n",
       "    <tr>\n",
       "      <th>8085-MSNLK</th>\n",
       "      <td>2</td>\n",
       "      <td>2</td>\n",
       "      <td>3</td>\n",
       "      <td>0</td>\n",
       "      <td>62</td>\n",
       "      <td>2</td>\n",
       "      <td>2</td>\n",
       "      <td>113.95</td>\n",
       "      <td>6891.4</td>\n",
       "      <td>5.166667</td>\n",
       "      <td>2</td>\n",
       "      <td>1</td>\n",
       "      <td>3</td>\n",
       "      <td>3</td>\n",
       "      <td>0</td>\n",
       "      <td>0</td>\n",
       "      <td>0</td>\n",
       "      <td>0</td>\n",
       "    </tr>\n",
       "    <tr>\n",
       "      <th>3873-WOSBC</th>\n",
       "      <td>4</td>\n",
       "      <td>3</td>\n",
       "      <td>3</td>\n",
       "      <td>0</td>\n",
       "      <td>67</td>\n",
       "      <td>0</td>\n",
       "      <td>0</td>\n",
       "      <td>25.60</td>\n",
       "      <td>1784.9</td>\n",
       "      <td>5.583333</td>\n",
       "      <td>2</td>\n",
       "      <td>1</td>\n",
       "      <td>0</td>\n",
       "      <td>0</td>\n",
       "      <td>1</td>\n",
       "      <td>0</td>\n",
       "      <td>0</td>\n",
       "      <td>0</td>\n",
       "    </tr>\n",
       "    <tr>\n",
       "      <th>4544-RXFMG</th>\n",
       "      <td>2</td>\n",
       "      <td>1</td>\n",
       "      <td>2</td>\n",
       "      <td>0</td>\n",
       "      <td>8</td>\n",
       "      <td>1</td>\n",
       "      <td>1</td>\n",
       "      <td>43.45</td>\n",
       "      <td>345.5</td>\n",
       "      <td>0.666667</td>\n",
       "      <td>1</td>\n",
       "      <td>2</td>\n",
       "      <td>1</td>\n",
       "      <td>1</td>\n",
       "      <td>1</td>\n",
       "      <td>0</td>\n",
       "      <td>1</td>\n",
       "      <td>0</td>\n",
       "    </tr>\n",
       "    <tr>\n",
       "      <th>8644-XLFBW</th>\n",
       "      <td>1</td>\n",
       "      <td>2</td>\n",
       "      <td>1</td>\n",
       "      <td>1</td>\n",
       "      <td>1</td>\n",
       "      <td>1</td>\n",
       "      <td>1</td>\n",
       "      <td>71.65</td>\n",
       "      <td>71.65</td>\n",
       "      <td>0.083333</td>\n",
       "      <td>1</td>\n",
       "      <td>0</td>\n",
       "      <td>1</td>\n",
       "      <td>1</td>\n",
       "      <td>1</td>\n",
       "      <td>1</td>\n",
       "      <td>1</td>\n",
       "      <td>0</td>\n",
       "    </tr>\n",
       "    <tr>\n",
       "      <th>...</th>\n",
       "      <td>...</td>\n",
       "      <td>...</td>\n",
       "      <td>...</td>\n",
       "      <td>...</td>\n",
       "      <td>...</td>\n",
       "      <td>...</td>\n",
       "      <td>...</td>\n",
       "      <td>...</td>\n",
       "      <td>...</td>\n",
       "      <td>...</td>\n",
       "      <td>...</td>\n",
       "      <td>...</td>\n",
       "      <td>...</td>\n",
       "      <td>...</td>\n",
       "      <td>...</td>\n",
       "      <td>...</td>\n",
       "      <td>...</td>\n",
       "      <td>...</td>\n",
       "    </tr>\n",
       "    <tr>\n",
       "      <th>7317-GGVPB</th>\n",
       "      <td>4</td>\n",
       "      <td>2</td>\n",
       "      <td>3</td>\n",
       "      <td>0</td>\n",
       "      <td>71</td>\n",
       "      <td>2</td>\n",
       "      <td>2</td>\n",
       "      <td>108.60</td>\n",
       "      <td>7690.9</td>\n",
       "      <td>5.916667</td>\n",
       "      <td>2</td>\n",
       "      <td>1</td>\n",
       "      <td>3</td>\n",
       "      <td>2</td>\n",
       "      <td>1</td>\n",
       "      <td>1</td>\n",
       "      <td>1</td>\n",
       "      <td>0</td>\n",
       "    </tr>\n",
       "    <tr>\n",
       "      <th>6332-FBZRI</th>\n",
       "      <td>4</td>\n",
       "      <td>1</td>\n",
       "      <td>2</td>\n",
       "      <td>0</td>\n",
       "      <td>67</td>\n",
       "      <td>2</td>\n",
       "      <td>2</td>\n",
       "      <td>69.35</td>\n",
       "      <td>4653.25</td>\n",
       "      <td>5.583333</td>\n",
       "      <td>2</td>\n",
       "      <td>2</td>\n",
       "      <td>1</td>\n",
       "      <td>3</td>\n",
       "      <td>1</td>\n",
       "      <td>0</td>\n",
       "      <td>1</td>\n",
       "      <td>0</td>\n",
       "    </tr>\n",
       "    <tr>\n",
       "      <th>7554-NEWDD</th>\n",
       "      <td>3</td>\n",
       "      <td>3</td>\n",
       "      <td>3</td>\n",
       "      <td>0</td>\n",
       "      <td>10</td>\n",
       "      <td>0</td>\n",
       "      <td>0</td>\n",
       "      <td>25.70</td>\n",
       "      <td>251.6</td>\n",
       "      <td>0.833333</td>\n",
       "      <td>2</td>\n",
       "      <td>0</td>\n",
       "      <td>0</td>\n",
       "      <td>0</td>\n",
       "      <td>1</td>\n",
       "      <td>0</td>\n",
       "      <td>0</td>\n",
       "      <td>0</td>\n",
       "    </tr>\n",
       "    <tr>\n",
       "      <th>9127-FHJBZ</th>\n",
       "      <td>1</td>\n",
       "      <td>2</td>\n",
       "      <td>3</td>\n",
       "      <td>0</td>\n",
       "      <td>72</td>\n",
       "      <td>2</td>\n",
       "      <td>2</td>\n",
       "      <td>114.00</td>\n",
       "      <td>8093.15</td>\n",
       "      <td>6.000000</td>\n",
       "      <td>2</td>\n",
       "      <td>2</td>\n",
       "      <td>3</td>\n",
       "      <td>3</td>\n",
       "      <td>1</td>\n",
       "      <td>0</td>\n",
       "      <td>1</td>\n",
       "      <td>0</td>\n",
       "    </tr>\n",
       "    <tr>\n",
       "      <th>1930-BZLHI</th>\n",
       "      <td>2</td>\n",
       "      <td>3</td>\n",
       "      <td>2</td>\n",
       "      <td>0</td>\n",
       "      <td>21</td>\n",
       "      <td>0</td>\n",
       "      <td>0</td>\n",
       "      <td>20.35</td>\n",
       "      <td>422.7</td>\n",
       "      <td>1.750000</td>\n",
       "      <td>1</td>\n",
       "      <td>0</td>\n",
       "      <td>0</td>\n",
       "      <td>0</td>\n",
       "      <td>1</td>\n",
       "      <td>0</td>\n",
       "      <td>1</td>\n",
       "      <td>0</td>\n",
       "    </tr>\n",
       "  </tbody>\n",
       "</table>\n",
       "<p>4190 rows × 18 columns</p>\n",
       "</div>"
      ],
      "text/plain": [
       "             payment_type_id  internet_service_type_id  contract_type_id  \\\n",
       "customer_id                                                                \n",
       "3961-SXAXY                 3                         1                 1   \n",
       "8085-MSNLK                 2                         2                 3   \n",
       "3873-WOSBC                 4                         3                 3   \n",
       "4544-RXFMG                 2                         1                 2   \n",
       "8644-XLFBW                 1                         2                 1   \n",
       "...                      ...                       ...               ...   \n",
       "7317-GGVPB                 4                         2                 3   \n",
       "6332-FBZRI                 4                         1                 2   \n",
       "7554-NEWDD                 3                         3                 3   \n",
       "9127-FHJBZ                 1                         2                 3   \n",
       "1930-BZLHI                 2                         3                 2   \n",
       "\n",
       "             senior_citizen  tenure  device_protection  tech_support  \\\n",
       "customer_id                                                            \n",
       "3961-SXAXY                0       1                  1             1   \n",
       "8085-MSNLK                0      62                  2             2   \n",
       "3873-WOSBC                0      67                  0             0   \n",
       "4544-RXFMG                0       8                  1             1   \n",
       "8644-XLFBW                1       1                  1             1   \n",
       "...                     ...     ...                ...           ...   \n",
       "7317-GGVPB                0      71                  2             2   \n",
       "6332-FBZRI                0      67                  2             2   \n",
       "7554-NEWDD                0      10                  0             0   \n",
       "9127-FHJBZ                0      72                  2             2   \n",
       "1930-BZLHI                0      21                  0             0   \n",
       "\n",
       "             monthly_charges total_charges  tenure_by_year  \\\n",
       "customer_id                                                  \n",
       "3961-SXAXY             44.05         44.05        0.083333   \n",
       "8085-MSNLK            113.95        6891.4        5.166667   \n",
       "3873-WOSBC             25.60        1784.9        5.583333   \n",
       "4544-RXFMG             43.45         345.5        0.666667   \n",
       "8644-XLFBW             71.65         71.65        0.083333   \n",
       "...                      ...           ...             ...   \n",
       "7317-GGVPB            108.60        7690.9        5.916667   \n",
       "6332-FBZRI             69.35       4653.25        5.583333   \n",
       "7554-NEWDD             25.70         251.6        0.833333   \n",
       "9127-FHJBZ            114.00       8093.15        6.000000   \n",
       "1930-BZLHI             20.35         422.7        1.750000   \n",
       "\n",
       "             multiple_line_values  part_or_dep_values  streaming_tv_or_movie  \\\n",
       "customer_id                                                                    \n",
       "3961-SXAXY                      1                   0                      1   \n",
       "8085-MSNLK                      2                   1                      3   \n",
       "3873-WOSBC                      2                   1                      0   \n",
       "4544-RXFMG                      1                   2                      1   \n",
       "8644-XLFBW                      1                   0                      1   \n",
       "...                           ...                 ...                    ...   \n",
       "7317-GGVPB                      2                   1                      3   \n",
       "6332-FBZRI                      2                   2                      1   \n",
       "7554-NEWDD                      2                   0                      0   \n",
       "9127-FHJBZ                      2                   2                      3   \n",
       "1930-BZLHI                      1                   0                      0   \n",
       "\n",
       "             security_or_backup_values  gender_Male  churn_Yes  \\\n",
       "customer_id                                                      \n",
       "3961-SXAXY                           1            1          0   \n",
       "8085-MSNLK                           3            0          0   \n",
       "3873-WOSBC                           0            1          0   \n",
       "4544-RXFMG                           1            1          0   \n",
       "8644-XLFBW                           1            1          1   \n",
       "...                                ...          ...        ...   \n",
       "7317-GGVPB                           2            1          1   \n",
       "6332-FBZRI                           3            1          0   \n",
       "7554-NEWDD                           0            1          0   \n",
       "9127-FHJBZ                           3            1          0   \n",
       "1930-BZLHI                           0            1          0   \n",
       "\n",
       "             paperless_billing_Yes  baseline  \n",
       "customer_id                                   \n",
       "3961-SXAXY                       1         0  \n",
       "8085-MSNLK                       0         0  \n",
       "3873-WOSBC                       0         0  \n",
       "4544-RXFMG                       1         0  \n",
       "8644-XLFBW                       1         0  \n",
       "...                            ...       ...  \n",
       "7317-GGVPB                       1         0  \n",
       "6332-FBZRI                       1         0  \n",
       "7554-NEWDD                       0         0  \n",
       "9127-FHJBZ                       1         0  \n",
       "1930-BZLHI                       1         0  \n",
       "\n",
       "[4190 rows x 18 columns]"
      ]
     },
     "execution_count": 53,
     "metadata": {},
     "output_type": "execute_result"
    }
   ],
   "source": [
    "train['baseline'] = train.churn_Yes.value_counts().index[0]\n",
    "train"
   ]
  },
  {
   "cell_type": "code",
   "execution_count": 54,
   "metadata": {},
   "outputs": [
    {
     "data": {
      "text/plain": [
       "0.7346062052505966"
      ]
     },
     "execution_count": 54,
     "metadata": {},
     "output_type": "execute_result"
    }
   ],
   "source": [
    "baseline_accuracy = (train.baseline == train.churn_Yes).mean()\n",
    "baseline_accuracy"
   ]
  },
  {
   "cell_type": "code",
   "execution_count": null,
   "metadata": {},
   "outputs": [],
   "source": []
  }
 ],
 "metadata": {
  "kernelspec": {
   "display_name": "Python 3",
   "language": "python",
   "name": "python3"
  },
  "language_info": {
   "codemirror_mode": {
    "name": "ipython",
    "version": 3
   },
   "file_extension": ".py",
   "mimetype": "text/x-python",
   "name": "python",
   "nbconvert_exporter": "python",
   "pygments_lexer": "ipython3",
   "version": "3.7.6"
  }
 },
 "nbformat": 4,
 "nbformat_minor": 4
}
