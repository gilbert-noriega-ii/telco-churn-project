{
 "cells": [
  {
   "cell_type": "markdown",
   "metadata": {},
   "source": [
    "# Project Planning\n",
    "\n",
    "- Describe the project and goals.\n",
    "\n",
    "- Task out how you will work through the pipeline in as much detail as you need to keep on track.\n",
    "\n",
    "- Incluce a data dictionary.\n",
    "\n",
    "- Clearly state your starting hypotheses (and add the testing of these to your task list)."
   ]
  },
  {
   "cell_type": "markdown",
   "metadata": {},
   "source": [
    "## Goals\n",
    "\n",
    "- Find drivers for customer churn.\n",
    "\n",
    "- Construct a ML classification model that accurately predicts customer churn.\n",
    "\n",
    "- Create modules that make your process repeateable.\n",
    "\n",
    "- Document your process well enough to be presented or read like a report.\n",
    "\n"
   ]
  },
  {
   "cell_type": "markdown",
   "metadata": {},
   "source": [
    "## Audience\n",
    "\n",
    "- Your target audience for your notebook walkthrough is the Codeup Data Science team. This should guide your language and level of explanations in your walkthrough."
   ]
  },
  {
   "cell_type": "markdown",
   "metadata": {},
   "source": [
    "## Project Specifications\n",
    "\n",
    "#### Why are our customers churning?\n",
    "\n",
    "###### Some questions to think about include but are not limited to:\n",
    "\n",
    "- Are there clear groupings where a customer is more likely to churn?\n",
    "\n",
    "    - What if you consider contract type?\n",
    "    - Is there a tenure that month-to-month customers are most likely to churn? 1-year contract customers? 2-year contract customers?\n",
    "    - Do you have any thoughts on what could be going on? (Be sure to state these thoughts not as facts but as untested hypotheses. Unless you test them!). Plot the rate of churn on a line chart where x is the tenure and y is the rate of churn (customers churned/total customers).\n",
    "\n",
    "- Are there features that indicate a higher propensity to churn?\n",
    "\n",
    "    - How influential are type of internet service, type of phone service, online security and backup, senior citizens, paying more than x% of customers with the same services, etc.?\n",
    "\n",
    "- Is there a price threshold for specific services where the likelihood of churn increases once price for those services goes past that point?\n",
    "\n",
    "    - If so, what is that point and for which service(s)?\n",
    "\n",
    "    - If we looked at churn rate for month-to-month customers after the 12th month and that of 1-year contract customers after the 12th month, are those rates comparable?\n"
   ]
  },
  {
   "cell_type": "markdown",
   "metadata": {},
   "source": [
    "### Acquisition\n",
    "\n",
    "- Acquire data from the customers table from the telco_churn database on the codeup data science database server.\n",
    "\n",
    "- You will want to join some tables as part of your query.\n",
    "\n",
    "- This data should end up in a pandas data frame.\n",
    "\n",
    "- summarize data (.info(), .describe(), .value_counts(), ...)\n",
    "\n",
    "- plot distributions of individual variables\n",
    "\n"
   ]
  },
  {
   "cell_type": "code",
   "execution_count": 1,
   "metadata": {},
   "outputs": [],
   "source": [
    "import pandas as pd\n",
    "import numpy as np\n",
    "import matplotlib.pyplot as plt\n",
    "from sklearn.model_selection import train_test_split\n",
    "from acquire import get_telco_data"
   ]
  },
  {
   "cell_type": "code",
   "execution_count": 2,
   "metadata": {},
   "outputs": [],
   "source": [
    "#grabbing telco data from SQL using function and storing it as a DataFrame\n",
    "df = pd.DataFrame(get_telco_data())\n",
    "df = df.set_index('customer_id')"
   ]
  },
  {
   "cell_type": "code",
   "execution_count": 3,
   "metadata": {},
   "outputs": [
    {
     "data": {
      "text/html": [
       "<div>\n",
       "<style scoped>\n",
       "    .dataframe tbody tr th:only-of-type {\n",
       "        vertical-align: middle;\n",
       "    }\n",
       "\n",
       "    .dataframe tbody tr th {\n",
       "        vertical-align: top;\n",
       "    }\n",
       "\n",
       "    .dataframe thead th {\n",
       "        text-align: right;\n",
       "    }\n",
       "</style>\n",
       "<table border=\"1\" class=\"dataframe\">\n",
       "  <thead>\n",
       "    <tr style=\"text-align: right;\">\n",
       "      <th></th>\n",
       "      <th>payment_type_id</th>\n",
       "      <th>internet_service_type_id</th>\n",
       "      <th>contract_type_id</th>\n",
       "      <th>gender</th>\n",
       "      <th>senior_citizen</th>\n",
       "      <th>partner</th>\n",
       "      <th>dependents</th>\n",
       "      <th>tenure</th>\n",
       "      <th>phone_service</th>\n",
       "      <th>multiple_lines</th>\n",
       "      <th>...</th>\n",
       "      <th>tech_support</th>\n",
       "      <th>streaming_tv</th>\n",
       "      <th>streaming_movies</th>\n",
       "      <th>paperless_billing</th>\n",
       "      <th>monthly_charges</th>\n",
       "      <th>total_charges</th>\n",
       "      <th>churn</th>\n",
       "      <th>contract_type</th>\n",
       "      <th>internet_service_type</th>\n",
       "      <th>payment_type</th>\n",
       "    </tr>\n",
       "    <tr>\n",
       "      <th>customer_id</th>\n",
       "      <th></th>\n",
       "      <th></th>\n",
       "      <th></th>\n",
       "      <th></th>\n",
       "      <th></th>\n",
       "      <th></th>\n",
       "      <th></th>\n",
       "      <th></th>\n",
       "      <th></th>\n",
       "      <th></th>\n",
       "      <th></th>\n",
       "      <th></th>\n",
       "      <th></th>\n",
       "      <th></th>\n",
       "      <th></th>\n",
       "      <th></th>\n",
       "      <th></th>\n",
       "      <th></th>\n",
       "      <th></th>\n",
       "      <th></th>\n",
       "      <th></th>\n",
       "    </tr>\n",
       "  </thead>\n",
       "  <tbody>\n",
       "    <tr>\n",
       "      <th>0003-MKNFE</th>\n",
       "      <td>2</td>\n",
       "      <td>1</td>\n",
       "      <td>1</td>\n",
       "      <td>Male</td>\n",
       "      <td>0</td>\n",
       "      <td>No</td>\n",
       "      <td>No</td>\n",
       "      <td>9</td>\n",
       "      <td>Yes</td>\n",
       "      <td>Yes</td>\n",
       "      <td>...</td>\n",
       "      <td>No</td>\n",
       "      <td>No</td>\n",
       "      <td>Yes</td>\n",
       "      <td>No</td>\n",
       "      <td>59.9</td>\n",
       "      <td>542.4</td>\n",
       "      <td>No</td>\n",
       "      <td>Month-to-month</td>\n",
       "      <td>DSL</td>\n",
       "      <td>Mailed check</td>\n",
       "    </tr>\n",
       "    <tr>\n",
       "      <th>0013-MHZWF</th>\n",
       "      <td>4</td>\n",
       "      <td>1</td>\n",
       "      <td>1</td>\n",
       "      <td>Female</td>\n",
       "      <td>0</td>\n",
       "      <td>No</td>\n",
       "      <td>Yes</td>\n",
       "      <td>9</td>\n",
       "      <td>Yes</td>\n",
       "      <td>No</td>\n",
       "      <td>...</td>\n",
       "      <td>Yes</td>\n",
       "      <td>Yes</td>\n",
       "      <td>Yes</td>\n",
       "      <td>Yes</td>\n",
       "      <td>69.4</td>\n",
       "      <td>571.45</td>\n",
       "      <td>No</td>\n",
       "      <td>Month-to-month</td>\n",
       "      <td>DSL</td>\n",
       "      <td>Credit card (automatic)</td>\n",
       "    </tr>\n",
       "    <tr>\n",
       "      <th>0015-UOCOJ</th>\n",
       "      <td>1</td>\n",
       "      <td>1</td>\n",
       "      <td>1</td>\n",
       "      <td>Female</td>\n",
       "      <td>1</td>\n",
       "      <td>No</td>\n",
       "      <td>No</td>\n",
       "      <td>7</td>\n",
       "      <td>Yes</td>\n",
       "      <td>No</td>\n",
       "      <td>...</td>\n",
       "      <td>No</td>\n",
       "      <td>No</td>\n",
       "      <td>No</td>\n",
       "      <td>Yes</td>\n",
       "      <td>48.2</td>\n",
       "      <td>340.35</td>\n",
       "      <td>No</td>\n",
       "      <td>Month-to-month</td>\n",
       "      <td>DSL</td>\n",
       "      <td>Electronic check</td>\n",
       "    </tr>\n",
       "    <tr>\n",
       "      <th>0023-HGHWL</th>\n",
       "      <td>1</td>\n",
       "      <td>1</td>\n",
       "      <td>1</td>\n",
       "      <td>Male</td>\n",
       "      <td>1</td>\n",
       "      <td>No</td>\n",
       "      <td>No</td>\n",
       "      <td>1</td>\n",
       "      <td>No</td>\n",
       "      <td>No phone service</td>\n",
       "      <td>...</td>\n",
       "      <td>No</td>\n",
       "      <td>No</td>\n",
       "      <td>No</td>\n",
       "      <td>Yes</td>\n",
       "      <td>25.1</td>\n",
       "      <td>25.1</td>\n",
       "      <td>Yes</td>\n",
       "      <td>Month-to-month</td>\n",
       "      <td>DSL</td>\n",
       "      <td>Electronic check</td>\n",
       "    </tr>\n",
       "    <tr>\n",
       "      <th>0032-PGELS</th>\n",
       "      <td>3</td>\n",
       "      <td>1</td>\n",
       "      <td>1</td>\n",
       "      <td>Female</td>\n",
       "      <td>0</td>\n",
       "      <td>Yes</td>\n",
       "      <td>Yes</td>\n",
       "      <td>1</td>\n",
       "      <td>No</td>\n",
       "      <td>No phone service</td>\n",
       "      <td>...</td>\n",
       "      <td>No</td>\n",
       "      <td>No</td>\n",
       "      <td>No</td>\n",
       "      <td>No</td>\n",
       "      <td>30.5</td>\n",
       "      <td>30.5</td>\n",
       "      <td>Yes</td>\n",
       "      <td>Month-to-month</td>\n",
       "      <td>DSL</td>\n",
       "      <td>Bank transfer (automatic)</td>\n",
       "    </tr>\n",
       "  </tbody>\n",
       "</table>\n",
       "<p>5 rows × 23 columns</p>\n",
       "</div>"
      ],
      "text/plain": [
       "             payment_type_id  internet_service_type_id  contract_type_id  \\\n",
       "customer_id                                                                \n",
       "0003-MKNFE                 2                         1                 1   \n",
       "0013-MHZWF                 4                         1                 1   \n",
       "0015-UOCOJ                 1                         1                 1   \n",
       "0023-HGHWL                 1                         1                 1   \n",
       "0032-PGELS                 3                         1                 1   \n",
       "\n",
       "             gender  senior_citizen partner dependents  tenure phone_service  \\\n",
       "customer_id                                                                    \n",
       "0003-MKNFE     Male               0      No         No       9           Yes   \n",
       "0013-MHZWF   Female               0      No        Yes       9           Yes   \n",
       "0015-UOCOJ   Female               1      No         No       7           Yes   \n",
       "0023-HGHWL     Male               1      No         No       1            No   \n",
       "0032-PGELS   Female               0     Yes        Yes       1            No   \n",
       "\n",
       "               multiple_lines  ... tech_support streaming_tv streaming_movies  \\\n",
       "customer_id                    ...                                              \n",
       "0003-MKNFE                Yes  ...           No           No              Yes   \n",
       "0013-MHZWF                 No  ...          Yes          Yes              Yes   \n",
       "0015-UOCOJ                 No  ...           No           No               No   \n",
       "0023-HGHWL   No phone service  ...           No           No               No   \n",
       "0032-PGELS   No phone service  ...           No           No               No   \n",
       "\n",
       "            paperless_billing monthly_charges total_charges churn  \\\n",
       "customer_id                                                         \n",
       "0003-MKNFE                 No            59.9         542.4    No   \n",
       "0013-MHZWF                Yes            69.4        571.45    No   \n",
       "0015-UOCOJ                Yes            48.2        340.35    No   \n",
       "0023-HGHWL                Yes            25.1          25.1   Yes   \n",
       "0032-PGELS                 No            30.5          30.5   Yes   \n",
       "\n",
       "              contract_type internet_service_type               payment_type  \n",
       "customer_id                                                                   \n",
       "0003-MKNFE   Month-to-month                   DSL               Mailed check  \n",
       "0013-MHZWF   Month-to-month                   DSL    Credit card (automatic)  \n",
       "0015-UOCOJ   Month-to-month                   DSL           Electronic check  \n",
       "0023-HGHWL   Month-to-month                   DSL           Electronic check  \n",
       "0032-PGELS   Month-to-month                   DSL  Bank transfer (automatic)  \n",
       "\n",
       "[5 rows x 23 columns]"
      ]
     },
     "execution_count": 3,
     "metadata": {},
     "output_type": "execute_result"
    }
   ],
   "source": [
    "df.head()"
   ]
  },
  {
   "cell_type": "code",
   "execution_count": 4,
   "metadata": {},
   "outputs": [
    {
     "name": "stdout",
     "output_type": "stream",
     "text": [
      "<class 'pandas.core.frame.DataFrame'>\n",
      "Index: 7043 entries, 0003-MKNFE to 9975-GPKZU\n",
      "Data columns (total 23 columns):\n",
      " #   Column                    Non-Null Count  Dtype  \n",
      "---  ------                    --------------  -----  \n",
      " 0   payment_type_id           7043 non-null   int64  \n",
      " 1   internet_service_type_id  7043 non-null   int64  \n",
      " 2   contract_type_id          7043 non-null   int64  \n",
      " 3   gender                    7043 non-null   object \n",
      " 4   senior_citizen            7043 non-null   int64  \n",
      " 5   partner                   7043 non-null   object \n",
      " 6   dependents                7043 non-null   object \n",
      " 7   tenure                    7043 non-null   int64  \n",
      " 8   phone_service             7043 non-null   object \n",
      " 9   multiple_lines            7043 non-null   object \n",
      " 10  online_security           7043 non-null   object \n",
      " 11  online_backup             7043 non-null   object \n",
      " 12  device_protection         7043 non-null   object \n",
      " 13  tech_support              7043 non-null   object \n",
      " 14  streaming_tv              7043 non-null   object \n",
      " 15  streaming_movies          7043 non-null   object \n",
      " 16  paperless_billing         7043 non-null   object \n",
      " 17  monthly_charges           7043 non-null   float64\n",
      " 18  total_charges             7043 non-null   object \n",
      " 19  churn                     7043 non-null   object \n",
      " 20  contract_type             7043 non-null   object \n",
      " 21  internet_service_type     7043 non-null   object \n",
      " 22  payment_type              7043 non-null   object \n",
      "dtypes: float64(1), int64(5), object(17)\n",
      "memory usage: 1.3+ MB\n"
     ]
    }
   ],
   "source": [
    "df.info()"
   ]
  },
  {
   "cell_type": "markdown",
   "metadata": {},
   "source": [
    "__All of the columns do not have any null values__"
   ]
  },
  {
   "cell_type": "code",
   "execution_count": 5,
   "metadata": {},
   "outputs": [
    {
     "data": {
      "text/html": [
       "<div>\n",
       "<style scoped>\n",
       "    .dataframe tbody tr th:only-of-type {\n",
       "        vertical-align: middle;\n",
       "    }\n",
       "\n",
       "    .dataframe tbody tr th {\n",
       "        vertical-align: top;\n",
       "    }\n",
       "\n",
       "    .dataframe thead th {\n",
       "        text-align: right;\n",
       "    }\n",
       "</style>\n",
       "<table border=\"1\" class=\"dataframe\">\n",
       "  <thead>\n",
       "    <tr style=\"text-align: right;\">\n",
       "      <th></th>\n",
       "      <th>payment_type_id</th>\n",
       "      <th>internet_service_type_id</th>\n",
       "      <th>contract_type_id</th>\n",
       "      <th>senior_citizen</th>\n",
       "      <th>tenure</th>\n",
       "      <th>monthly_charges</th>\n",
       "    </tr>\n",
       "  </thead>\n",
       "  <tbody>\n",
       "    <tr>\n",
       "      <th>count</th>\n",
       "      <td>7043.000000</td>\n",
       "      <td>7043.000000</td>\n",
       "      <td>7043.000000</td>\n",
       "      <td>7043.000000</td>\n",
       "      <td>7043.000000</td>\n",
       "      <td>7043.000000</td>\n",
       "    </tr>\n",
       "    <tr>\n",
       "      <th>mean</th>\n",
       "      <td>2.315633</td>\n",
       "      <td>1.872923</td>\n",
       "      <td>1.690473</td>\n",
       "      <td>0.162147</td>\n",
       "      <td>32.371149</td>\n",
       "      <td>64.761692</td>\n",
       "    </tr>\n",
       "    <tr>\n",
       "      <th>std</th>\n",
       "      <td>1.148907</td>\n",
       "      <td>0.737796</td>\n",
       "      <td>0.833755</td>\n",
       "      <td>0.368612</td>\n",
       "      <td>24.559481</td>\n",
       "      <td>30.090047</td>\n",
       "    </tr>\n",
       "    <tr>\n",
       "      <th>min</th>\n",
       "      <td>1.000000</td>\n",
       "      <td>1.000000</td>\n",
       "      <td>1.000000</td>\n",
       "      <td>0.000000</td>\n",
       "      <td>0.000000</td>\n",
       "      <td>18.250000</td>\n",
       "    </tr>\n",
       "    <tr>\n",
       "      <th>25%</th>\n",
       "      <td>1.000000</td>\n",
       "      <td>1.000000</td>\n",
       "      <td>1.000000</td>\n",
       "      <td>0.000000</td>\n",
       "      <td>9.000000</td>\n",
       "      <td>35.500000</td>\n",
       "    </tr>\n",
       "    <tr>\n",
       "      <th>50%</th>\n",
       "      <td>2.000000</td>\n",
       "      <td>2.000000</td>\n",
       "      <td>1.000000</td>\n",
       "      <td>0.000000</td>\n",
       "      <td>29.000000</td>\n",
       "      <td>70.350000</td>\n",
       "    </tr>\n",
       "    <tr>\n",
       "      <th>75%</th>\n",
       "      <td>3.000000</td>\n",
       "      <td>2.000000</td>\n",
       "      <td>2.000000</td>\n",
       "      <td>0.000000</td>\n",
       "      <td>55.000000</td>\n",
       "      <td>89.850000</td>\n",
       "    </tr>\n",
       "    <tr>\n",
       "      <th>max</th>\n",
       "      <td>4.000000</td>\n",
       "      <td>3.000000</td>\n",
       "      <td>3.000000</td>\n",
       "      <td>1.000000</td>\n",
       "      <td>72.000000</td>\n",
       "      <td>118.750000</td>\n",
       "    </tr>\n",
       "  </tbody>\n",
       "</table>\n",
       "</div>"
      ],
      "text/plain": [
       "       payment_type_id  internet_service_type_id  contract_type_id  \\\n",
       "count      7043.000000               7043.000000       7043.000000   \n",
       "mean          2.315633                  1.872923          1.690473   \n",
       "std           1.148907                  0.737796          0.833755   \n",
       "min           1.000000                  1.000000          1.000000   \n",
       "25%           1.000000                  1.000000          1.000000   \n",
       "50%           2.000000                  2.000000          1.000000   \n",
       "75%           3.000000                  2.000000          2.000000   \n",
       "max           4.000000                  3.000000          3.000000   \n",
       "\n",
       "       senior_citizen       tenure  monthly_charges  \n",
       "count     7043.000000  7043.000000      7043.000000  \n",
       "mean         0.162147    32.371149        64.761692  \n",
       "std          0.368612    24.559481        30.090047  \n",
       "min          0.000000     0.000000        18.250000  \n",
       "25%          0.000000     9.000000        35.500000  \n",
       "50%          0.000000    29.000000        70.350000  \n",
       "75%          0.000000    55.000000        89.850000  \n",
       "max          1.000000    72.000000       118.750000  "
      ]
     },
     "execution_count": 5,
     "metadata": {},
     "output_type": "execute_result"
    }
   ],
   "source": [
    "df.describe()"
   ]
  },
  {
   "cell_type": "markdown",
   "metadata": {},
   "source": [
    "__There does not seem to be any outliers__"
   ]
  },
  {
   "cell_type": "code",
   "execution_count": 6,
   "metadata": {},
   "outputs": [
    {
     "data": {
      "text/plain": [
       "1    2365\n",
       "2    1612\n",
       "3    1544\n",
       "4    1522\n",
       "Name: payment_type_id, dtype: int64"
      ]
     },
     "execution_count": 6,
     "metadata": {},
     "output_type": "execute_result"
    }
   ],
   "source": [
    "df.payment_type_id.value_counts()"
   ]
  },
  {
   "cell_type": "markdown",
   "metadata": {},
   "source": [
    "- 1: electronic check\n",
    "- 2: mailed check\n",
    "- 3: bank transfer(automatic)\n",
    "- 4: credit card(automatic)"
   ]
  },
  {
   "cell_type": "code",
   "execution_count": 7,
   "metadata": {},
   "outputs": [
    {
     "data": {
      "text/plain": [
       "2    3096\n",
       "1    2421\n",
       "3    1526\n",
       "Name: internet_service_type_id, dtype: int64"
      ]
     },
     "execution_count": 7,
     "metadata": {},
     "output_type": "execute_result"
    }
   ],
   "source": [
    "df.internet_service_type_id.value_counts()"
   ]
  },
  {
   "cell_type": "markdown",
   "metadata": {},
   "source": [
    "- 1: DSL\n",
    "- 2: Fiber Optic\n",
    "- 3: None"
   ]
  },
  {
   "cell_type": "code",
   "execution_count": 8,
   "metadata": {},
   "outputs": [
    {
     "data": {
      "text/plain": [
       "1    3875\n",
       "3    1695\n",
       "2    1473\n",
       "Name: contract_type_id, dtype: int64"
      ]
     },
     "execution_count": 8,
     "metadata": {},
     "output_type": "execute_result"
    }
   ],
   "source": [
    "df.contract_type_id.value_counts()"
   ]
  },
  {
   "cell_type": "markdown",
   "metadata": {},
   "source": [
    "- 1: Month-to-month\n",
    "- 2: 1 year\n",
    "- 3: 2 year"
   ]
  },
  {
   "cell_type": "code",
   "execution_count": 9,
   "metadata": {},
   "outputs": [
    {
     "data": {
      "text/plain": [
       "0    5901\n",
       "1    1142\n",
       "Name: senior_citizen, dtype: int64"
      ]
     },
     "execution_count": 9,
     "metadata": {},
     "output_type": "execute_result"
    }
   ],
   "source": [
    "df.senior_citizen.value_counts()"
   ]
  },
  {
   "cell_type": "code",
   "execution_count": 10,
   "metadata": {},
   "outputs": [
    {
     "data": {
      "text/plain": [
       "Yes    6361\n",
       "No      682\n",
       "Name: phone_service, dtype: int64"
      ]
     },
     "execution_count": 10,
     "metadata": {},
     "output_type": "execute_result"
    }
   ],
   "source": [
    "df.phone_service.value_counts()"
   ]
  },
  {
   "cell_type": "markdown",
   "metadata": {},
   "source": [
    "- 0: Is not senior citizen\n",
    "- 1: Is senior citizen"
   ]
  },
  {
   "cell_type": "markdown",
   "metadata": {},
   "source": [
    "__Confirmed there are no null values in senior citizens, payment, internet and contract type id__"
   ]
  },
  {
   "cell_type": "code",
   "execution_count": null,
   "metadata": {},
   "outputs": [],
   "source": [
    "# distribution of columns whose data type is 'int64'\n",
    "num_cols = df.columns[[df[col].dtype == 'int64' for col in df.columns]]\n",
    "for col in num_cols:\n",
    "    plt.hist(df[col])\n",
    "    plt.title(col)\n",
    "    plt.show()"
   ]
  },
  {
   "cell_type": "markdown",
   "metadata": {},
   "source": [
    "__There is a normal distribution across payment type, internet service and tenure__"
   ]
  },
  {
   "cell_type": "markdown",
   "metadata": {},
   "source": [
    "__There are a lot more customers who are not senior citizens than who are__"
   ]
  },
  {
   "cell_type": "markdown",
   "metadata": {},
   "source": [
    "__There are more month-to-month customers than the 1 and 2 year subscriptions combined__"
   ]
  },
  {
   "cell_type": "markdown",
   "metadata": {},
   "source": [
    "### Data Prep\n",
    "\n",
    "- Change device_protection, tech_support and papperless_billing to 0/1\n",
    "\n",
    "- Create a new feature that represents tenure in years.\n",
    "\n",
    "- Create single variables for or find other methods to merge variables representing the information from the following columns:\n",
    "\n",
    "    - phone_service and multiple_lines\n",
    "    - dependents and partner\n",
    "    - streaming_tv & streaming_movies\n",
    "    - online_security & online_backup\n",
    "    \n",
    "- Split your data into train/validate/test."
   ]
  },
  {
   "cell_type": "code",
   "execution_count": null,
   "metadata": {},
   "outputs": [],
   "source": [
    "def online_checker(row):\n",
    "        if row == 'Yes':\n",
    "            return 2\n",
    "        elif row == 'No':\n",
    "            return 1\n",
    "        elif row == \"No internet service\":\n",
    "            return 0"
   ]
  },
  {
   "cell_type": "code",
   "execution_count": null,
   "metadata": {},
   "outputs": [],
   "source": [
    "df.device_protection = df.device_protection.apply(online_checker)"
   ]
  },
  {
   "cell_type": "code",
   "execution_count": null,
   "metadata": {},
   "outputs": [],
   "source": [
    "df.tech_support = df.tech_support.apply(online_checker)"
   ]
  },
  {
   "cell_type": "code",
   "execution_count": null,
   "metadata": {},
   "outputs": [],
   "source": [
    "df['tenure_by_year'] = df.tenure / 12"
   ]
  },
  {
   "cell_type": "code",
   "execution_count": null,
   "metadata": {},
   "outputs": [],
   "source": [
    "def phone_checker(row):\n",
    "        if row == 'Yes':\n",
    "            return 2\n",
    "        elif row == 'No':\n",
    "            return 1\n",
    "        elif row == \"No phone service\":\n",
    "            return 0"
   ]
  },
  {
   "cell_type": "code",
   "execution_count": null,
   "metadata": {},
   "outputs": [],
   "source": [
    "df['multiple_line_values'] = df.multiple_lines.apply(phone_checker)"
   ]
  },
  {
   "cell_type": "code",
   "execution_count": 11,
   "metadata": {},
   "outputs": [],
   "source": [
    "def family_checker(row):\n",
    "        if row == 'Yes Yes':\n",
    "            return 2\n",
    "        elif row == 'Yes No' or row == 'No Yes':\n",
    "            return 1\n",
    "        elif row == 'No No':\n",
    "            return 0"
   ]
  },
  {
   "cell_type": "code",
   "execution_count": null,
   "metadata": {},
   "outputs": [],
   "source": [
    "df['part_or_dep_values'] = df['partner'].str.cat(df['dependents'], sep =\" \") "
   ]
  },
  {
   "cell_type": "code",
   "execution_count": null,
   "metadata": {},
   "outputs": [],
   "source": [
    "df.part_or_dep_values = df.part_or_dep_values.apply(family_checker)"
   ]
  },
  {
   "cell_type": "code",
   "execution_count": null,
   "metadata": {},
   "outputs": [],
   "source": [
    "def stream_checker(row):\n",
    "        if row == 'Yes Yes':\n",
    "            return 3\n",
    "        elif row == 'Yes No' or row == 'No Yes':\n",
    "            return 2\n",
    "        elif row == 'No No':\n",
    "            return 1\n",
    "        elif row == \"No internet service No internet service\":\n",
    "            return 0"
   ]
  },
  {
   "cell_type": "code",
   "execution_count": null,
   "metadata": {},
   "outputs": [],
   "source": [
    "df['streaming_tv_or_movie'] = df['streaming_tv'].str.cat(df['streaming_movies'], sep =\" \") "
   ]
  },
  {
   "cell_type": "code",
   "execution_count": null,
   "metadata": {},
   "outputs": [],
   "source": [
    "df.streaming_tv_or_movie = df.streaming_tv_or_movie.apply(stream_checker)"
   ]
  },
  {
   "cell_type": "code",
   "execution_count": null,
   "metadata": {},
   "outputs": [],
   "source": [
    "df['security_or_backup_values'] = df.online_security.str.cat(df.online_backup, sep=\" \")"
   ]
  },
  {
   "cell_type": "code",
   "execution_count": null,
   "metadata": {},
   "outputs": [],
   "source": [
    "df.security_or_backup_values = df.security_or_backup_values.apply(stream_checker)"
   ]
  },
  {
   "cell_type": "code",
   "execution_count": null,
   "metadata": {},
   "outputs": [],
   "source": [
    "telco_dummies = pd.get_dummies(df[['gender', 'churn', 'paperless_billing']], drop_first=True)"
   ]
  },
  {
   "cell_type": "code",
   "execution_count": null,
   "metadata": {},
   "outputs": [],
   "source": [
    "df = pd.concat([df, telco_dummies], axis=1)"
   ]
  },
  {
   "cell_type": "code",
   "execution_count": null,
   "metadata": {},
   "outputs": [],
   "source": [
    "col_to_drop = ['gender', 'partner', 'dependents', 'phone_service', 'multiple_lines', 'online_security', 'online_backup', 'streaming_tv', 'streaming_movies', 'churn', 'contract_type', 'internet_service_type', 'payment_type']"
   ]
  },
  {
   "cell_type": "code",
   "execution_count": null,
   "metadata": {
    "scrolled": true
   },
   "outputs": [],
   "source": [
    "df = df.drop(columns = col_to_drop)"
   ]
  },
  {
   "cell_type": "code",
   "execution_count": null,
   "metadata": {
    "scrolled": true
   },
   "outputs": [],
   "source": [
    "df"
   ]
  },
  {
   "cell_type": "code",
   "execution_count": null,
   "metadata": {},
   "outputs": [],
   "source": [
    "def telco_split(df):\n",
    "\n",
    "    train_validate, test = train_test_split(df, test_size=.15, \n",
    "                                        random_state=123, \n",
    "                                        stratify=df.churn_Yes)\n",
    "    train, validate = train_test_split(train_validate, test_size=.3, \n",
    "                                   random_state=123, \n",
    "                                   stratify=train_validate.churn_Yes)\n",
    "    return train, validate, test"
   ]
  },
  {
   "cell_type": "code",
   "execution_count": null,
   "metadata": {},
   "outputs": [],
   "source": [
    "train, validate, test = telco_split(df)"
   ]
  },
  {
   "cell_type": "code",
   "execution_count": null,
   "metadata": {},
   "outputs": [],
   "source": [
    "train.shape, validate.shape, test.shape"
   ]
  },
  {
   "cell_type": "code",
   "execution_count": null,
   "metadata": {},
   "outputs": [],
   "source": [
    "train.head()"
   ]
  },
  {
   "cell_type": "code",
   "execution_count": null,
   "metadata": {},
   "outputs": [],
   "source": []
  }
 ],
 "metadata": {
  "kernelspec": {
   "display_name": "Python 3",
   "language": "python",
   "name": "python3"
  },
  "language_info": {
   "codemirror_mode": {
    "name": "ipython",
    "version": 3
   },
   "file_extension": ".py",
   "mimetype": "text/x-python",
   "name": "python",
   "nbconvert_exporter": "python",
   "pygments_lexer": "ipython3",
   "version": "3.7.6"
  }
 },
 "nbformat": 4,
 "nbformat_minor": 4
}
